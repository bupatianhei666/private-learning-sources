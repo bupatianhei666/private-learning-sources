{
 "cells": [
  {
   "cell_type": "markdown",
   "id": "310e97f7-bf04-4a18-8691-e4a3fb1493b4",
   "metadata": {},
   "source": [
    "# 线性回归从零开始实现  "
   ]
  },
  {
   "cell_type": "code",
   "execution_count": 10,
   "id": "5eea6cd3-03c3-4c7d-9fc7-6f3e5aecb4ab",
   "metadata": {
    "tags": []
   },
   "outputs": [
    {
     "data": {
      "image/png": "[encoded data removed]",
      "text/plain": [
       "<Figure size 400x300 with 1 Axes>"
      ]
     },
     "metadata": {},
     "output_type": "display_data"
    },
    {
     "name": "stdout",
     "output_type": "stream",
     "text": [
      "epoch 1, loss 0.297197\n",
      "epoch 2, loss 0.005480\n",
      "epoch 3, loss 0.000146\n",
      "w的位置：tensor([[ 1.9933],\n",
      "        [-3.3913]], requires_grad=True)\n",
      "b的位置：tensor([4.1904], requires_grad=True)\n"
     ]
    }
   ],
   "source": [
    "import torch\n",
    "import random\n",
    "import numpy as np\n",
    "import matplotlib.pyplot as plt\n",
    "def synthetic_data(w, b, num_examples):\n",
    "    X = torch.normal(0, 1, (num_examples, len(w)))\n",
    "    y = torch.matmul(X, w) + b # 广播机制\n",
    "    y += torch.normal(0, 0.01, y.shape) #加上噪声\n",
    "    return X, y.reshape((-1, 1)) #将y以列向量形式返回\n",
    "\n",
    "true_w = torch.tensor([2, -3.4])\n",
    "true_b = 4.2\n",
    "features, labels = synthetic_data(true_w, true_b, 1000)\n",
    "plt.figure(figsize = (4, 3))\n",
    "plt.scatter(features[:, 0], labels, s = 1)\n",
    "plt.show()\n",
    "\n",
    "#读取数据集\n",
    "def data_iter(batch_size, features, labels):\n",
    "    num_examples = len(features)\n",
    "    indices = list(range(num_examples))\n",
    "    random.shuffle(indices)\n",
    "    for i in range(0, num_examples, batch_size):\n",
    "        batch_indices = torch.tensor(indices[i:min(i + batch_size, num_examples)])\n",
    "        yield features[batch_indices], labels[batch_indices] # yield返回一个迭代器，每次调用都从上次的下一个位置进行返回\n",
    "\n",
    "batch_size = 10\n",
    "\n",
    "# 初始化模型参数\n",
    "w = torch.normal(0, 0.01, size=(2, 1), requires_grad=True)\n",
    "b = torch.zeros(1, requires_grad=True)\n",
    "\n",
    "# 定义模型\n",
    "def linreg(X, w, b):\n",
    "    return torch.matmul(X, w) + b\n",
    "# 定义损失函数\n",
    "def squared_loss(y_hat, y):\n",
    "    return (y_hat - y.reshape(y_hat.shape)) ** 2 / 2\n",
    "# 定义优化算法\n",
    "def sgd(params, lr, batch_size):\n",
    "    with torch.no_grad():\n",
    "        for param in params:\n",
    "            param -= lr * param.grad / batch_size\n",
    "            param.grad.zero_()\n",
    "\n",
    "# 训练\n",
    "lr = 0.02\n",
    "num_epochs = 3\n",
    "net = linreg\n",
    "loss = squared_loss\n",
    "for epoch in range(num_epochs):\n",
    "    for X, y in data_iter(batch_size, features, labels):\n",
    "        l = loss(net(X, w, b), y)\n",
    "        l.sum().backward()\n",
    "        sgd([w, b], lr, batch_size)\n",
    "    with torch.no_grad():\n",
    "        train_l = loss(net(features, w, b), labels)\n",
    "        print(f'epoch {epoch + 1}, loss {float(train_l.mean()):f}')\n",
    "print(f'w的位置：{w}\\nb的位置：{b}')"
   ]
  },
  {
   "cell_type": "markdown",
   "id": "3474b44f-806f-4652-a54d-d659298c327a",
   "metadata": {},
   "source": [
    "# 线性回归使用pytorch实现"
   ]
  },
  {
   "cell_type": "markdown",
   "id": "c567154b-963d-48ba-84c5-6716c94df6c0",
   "metadata": {},
   "source": [
    "**nn即neura network，nn.Sequential是一个有序的容器，神经网络模块将按照在传入构造器的顺序依次被添加到计算图中执行，同时以神经网络模块为元素的有序字典也可以作为传入参数，必须确保前一个模块的输出大小和下一个模块的输入大小是一致的。**  \n",
    "相当于构建神经网络  \n",
    "以下代码中，相当于只构建了只有一层线性单元的神经网络，net(tensor)表示输入一个张量经过这个神经网络得到输出"
   ]
  },
  {
   "cell_type": "code",
   "execution_count": 14,
   "id": "eb217dd8-cf0d-414a-ad13-a79c3573a062",
   "metadata": {
    "tags": []
   },
   "outputs": [
    {
     "name": "stdout",
     "output_type": "stream",
     "text": [
      "tensor([[0.0092]], grad_fn=<AddmmBackward0>)\n",
      "tensor([[0.8117]])\n",
      "tensor([-0.8024])\n"
     ]
    }
   ],
   "source": [
    "import torch\n",
    "from torch.utils import data\n",
    "from torch import nn\n",
    "\n",
    "net = nn.Sequential(nn.Linear(1,1))\n",
    "loss = nn.MSELoss()\n",
    "\n",
    "print(net(torch.Tensor([[1]])))\n",
    "print(net[0].weight.data)\n",
    "print(net[0].bias.data)"
   ]
  },
  {
   "cell_type": "code",
   "execution_count": null,
   "id": "eafbdb71-72f7-4fdf-9608-c509f64e8430",
   "metadata": {},
   "outputs": [],
   "source": []
  }
 ],
 "metadata": {
  "kernelspec": {
   "display_name": "Python 3 (ipykernel)",
   "language": "python",
   "name": "python3"
  },
  "language_info": {
   "codemirror_mode": {
    "name": "ipython",
    "version": 3
   },
   "file_extension": ".py",
   "mimetype": "text/x-python",
   "name": "python",
   "nbconvert_exporter": "python",
   "pygments_lexer": "ipython3",
   "version": "3.10.12"
  }
 },
 "nbformat": 4,
 "nbformat_minor": 5
}
