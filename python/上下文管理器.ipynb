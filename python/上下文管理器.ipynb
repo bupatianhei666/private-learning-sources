{
 "cells": [
  {
   "cell_type": "markdown",
   "id": "f4bf52bd-3434-444b-8774-9ac6e623868e",
   "metadata": {},
   "source": [
    "# 上下文管理器  \n",
    "在 Python 开发中，我们经常会使用到 with 语法块，例如在读写文件时，保证文件描述符的正确关闭，避免资源泄露问题。  \n",
    "## with语法块  \n",
    "我们在操作一个文件时，代码可以这么写：  "
   ]
  },
  {
   "cell_type": "markdown",
   "id": "da6a335e-a387-4da8-9158-552159ebbc99",
   "metadata": {},
   "source": [
    "```python\n",
    "# 打开文件\n",
    "f = open('file.txt')\n",
    "for line in f:\n",
    "    # 读取文件内容 执行其他操作\n",
    "    # do_something...\n",
    "# 关闭文件\n",
    "f.close()\n",
    "```"
   ]
  },
  {
   "cell_type": "markdown",
   "id": "39f0f2a1-52bc-4af9-b1ee-04f86888f65f",
   "metadata": {},
   "source": [
    "这个例子非常简单，就是打开一个文件，然后读取文件中的内容，最后关闭文件释放资源。  \n",
    "但是，代码这么写会有一个问题：在打开文件后，如果要对读取到的内容进行其他操作，如果操作期间发生了异常，这就会导致文件句柄无法被释放，进而导致资源的泄露。  \n",
    "也很简单，我们使用 try ... finally 来优化代码：  \n",
    "```python\n",
    "# 打开文件\n",
    "f = open('file.txt')\n",
    "try:\n",
    "    for line in f:\n",
    "        # 读取文件内容 执行其他操作\n",
    "        # do_something...\n",
    "finally:\n",
    "    # 保证关闭文件\n",
    "    f.close()\n",
    "```  \n",
    "这么写的好处是，在读取文件内容和操作期间，无论是否发生异常，都可以保证最后能释放文件资源。  \n",
    "但这么优化，代码结构会变得很繁琐，每次都要给代码逻辑增加 try ... finally 才可以，可读性变得很差。  "
   ]
  },
  {
   "cell_type": "markdown",
   "id": "0fe86486-574f-497d-8a1f-cccce842917d",
   "metadata": {
    "tags": []
   },
   "source": [
    "针对这种情况,我们就可以使用 with 语法块来解决这个问题:\n",
    "```python\n",
    "with open('file.txt') as f:\n",
    "    for line in f:\n",
    "        # do_something...\n",
    "```\n",
    "## 上下文管理器  \n",
    "首先，我们来看一下 with 的语法格式：  \n",
    "```python\n",
    "with context_expression [as target(s)]:\n",
    "    with-body\n",
    "```  \n",
    "要想使用 with 语法块，with 后面的的对象需要实现「上下文管理器协议」。  \n",
    "**什么是「上下文管理器协议」？**  \n",
    "一个类在 Python 中，只要实现以下方法，就实现了「上下文管理器协议」：  \n",
    "- __enter__：在进入 with 语法块之前调用，返回值会赋值给 with 的 target  \n",
    "- __exit__：在退出 with 语法块时调用，一般用作异常处理   \n",
    "```python\n",
    "class TestContext:\n",
    "\n",
    "    def __enter__(self):\n",
    "        print('__enter__')\n",
    "        return 1\n",
    "\n",
    "    def __exit__(self, exc_type, exc_value, exc_tb):\n",
    "        print('exc_type: %s' % exc_type)\n",
    "        print('exc_value: %s' % exc_value)\n",
    "        print('exc_tb: %s' % exc_tb)\n",
    "\n",
    "with TestContext() as t:\n",
    "    print('t: %s' % t)\n",
    "    \n",
    "# Output:\n",
    "# __enter__\n",
    "# t: 1\n",
    "# exc_type: None\n",
    "# exc_value: None\n",
    "# exc_tb: None\n",
    "```  \n",
    "在这个例子中，我们定义了 TestContext 类，它分别实现了 __enter__ 和 __exit__ 方法。  \n",
    "这样依赖，我们就可以把 TestContext 当做一个「上下文管理器」来使用，也就是通过 with TestContext() as t 方式来执行。  "
   ]
  }
 ],
 "metadata": {
  "kernelspec": {
   "display_name": "Python 3 (ipykernel)",
   "language": "python",
   "name": "python3"
  },
  "language_info": {
   "codemirror_mode": {
    "name": "ipython",
    "version": 3
   },
   "file_extension": ".py",
   "mimetype": "text/x-python",
   "name": "python",
   "nbconvert_exporter": "python",
   "pygments_lexer": "ipython3",
   "version": "3.10.12"
  }
 },
 "nbformat": 4,
 "nbformat_minor": 5
}
